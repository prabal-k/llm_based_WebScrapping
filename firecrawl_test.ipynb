{
 "cells": [
  {
   "cell_type": "markdown",
   "id": "0a5c85d3",
   "metadata": {},
   "source": [
    "## 1. Scrappin a website using the FireCrawal-Py"
   ]
  },
  {
   "cell_type": "code",
   "execution_count": null,
   "id": "07066833",
   "metadata": {},
   "outputs": [],
   "source": [
    "from firecrawl import FirecrawlApp, ScrapeOptions\n",
    "\n",
    "app = FirecrawlApp(api_key=\"fc-759775bbb27642a89385eb2975acff84\")\n",
    "\n",
    "# Scrape a website:\n",
    "data = app.scrape_url(\n",
    "  'https://smokeshopindallas.com/', \n",
    "  formats=['markdown'],\n",
    "#   wait_for=\"load\",  # can try 'load', 'networkidle', etc.\n",
    "    timeout=60        # increase timeout from default (usually 30s) to e.g., 60s\n",
    ")\n",
    "print(data)"
   ]
  },
  {
   "cell_type": "code",
   "execution_count": null,
   "id": "552452ba",
   "metadata": {},
   "outputs": [],
   "source": [
    "# Crawl a website:\n",
    "crawl_status = app.crawl_url(\n",
    "  'https://firecrawl.dev', \n",
    "  limit=100, \n",
    "  scrape_options=ScrapeOptions(formats=['markdown'])\n",
    ")\n",
    "print(crawl_status)"
   ]
  },
  {
   "cell_type": "code",
   "execution_count": null,
   "id": "b85e3ef9",
   "metadata": {},
   "outputs": [],
   "source": [
    "from dotenv import load_dotenv\n",
    "load_dotenv()"
   ]
  },
  {
   "cell_type": "markdown",
   "id": "1c835092",
   "metadata": {},
   "source": [
    "## 2. Scrapping websites using the langchain's FireCrawlLoader"
   ]
  },
  {
   "cell_type": "code",
   "execution_count": null,
   "id": "8f3ade56",
   "metadata": {},
   "outputs": [],
   "source": [
    "from langchain_community.document_loaders.firecrawl import FireCrawlLoader\n",
    "\n",
    "loader = FireCrawlLoader(\n",
    "    url=\"https://firecrawl.dev\", mode=\"scrape\"\n",
    ")"
   ]
  },
  {
   "cell_type": "code",
   "execution_count": null,
   "id": "fad19710",
   "metadata": {},
   "outputs": [],
   "source": [
    "pages = []\n",
    "for doc in loader.lazy_load():\n",
    "    pages.append(doc)\n",
    "# docs = loader.load()\n",
    "# docs"
   ]
  },
  {
   "cell_type": "code",
   "execution_count": null,
   "id": "35b7d5a2",
   "metadata": {},
   "outputs": [],
   "source": [
    "pages"
   ]
  },
  {
   "cell_type": "code",
   "execution_count": null,
   "id": "4ac3bc09",
   "metadata": {},
   "outputs": [],
   "source": []
  }
 ],
 "metadata": {
  "kernelspec": {
   "display_name": "llm_webscrapping",
   "language": "python",
   "name": "python3"
  },
  "language_info": {
   "codemirror_mode": {
    "name": "ipython",
    "version": 3
   },
   "file_extension": ".py",
   "mimetype": "text/x-python",
   "name": "python",
   "nbconvert_exporter": "python",
   "pygments_lexer": "ipython3",
   "version": "3.11.7"
  }
 },
 "nbformat": 4,
 "nbformat_minor": 5
}
